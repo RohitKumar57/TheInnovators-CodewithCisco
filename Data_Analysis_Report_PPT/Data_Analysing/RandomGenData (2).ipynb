{
  "nbformat": 4,
  "nbformat_minor": 0,
  "metadata": {
    "colab": {
      "provenance": []
    },
    "kernelspec": {
      "name": "python3",
      "display_name": "Python 3"
    },
    "language_info": {
      "name": "python"
    }
  },
  "cells": [
    {
      "cell_type": "code",
      "execution_count": 13,
      "metadata": {
        "id": "ii-CQG6NPi0j"
      },
      "outputs": [],
      "source": [
        "import pandas as pd\n",
        "import random\n",
        "from datetime import datetime, timedelta\n",
        "\n",
        "\n",
        "# Function to generate random datetime within a range\n",
        "def generate_random_datetime(start_date, end_date):\n",
        "    return start_date + timedelta(seconds=random.randint(0, int((end_date - start_date).total_seconds())))\n",
        "\n",
        "# Generate dummy data for 50 users\n",
        "dummy_data = []\n",
        "start_date = datetime(2023, 1, 1)\n",
        "end_date = datetime(2024, 1, 1)\n",
        "cnt  = 0;\n",
        "for _ in range(10000):\n",
        "    # Generate a random integer between 0 and 999 inclusive\n",
        "    x = random.randint(0, 999)\n",
        "    node_id_sender = 'U' + str(x)\n",
        "\n",
        "    # Generate a random integer between 0 and 999 inclusive\n",
        "    x = random.randint(0, 99)\n",
        "    node_id_receiver = 'U' + str(x)\n",
        "    timestamp = generate_random_datetime(start_date, end_date)\n",
        "\n",
        "    bandwidth_in = random.randint(50, 55)\n",
        "    bandwidth_out = random.randint(50, 55)\n",
        "    latency = random.uniform(1.0, 3.0)\n",
        "    packet_loss = random.uniform(0.01, 0.05)\n",
        "    # errors = random.randint(0, 5)\n",
        "    cpu_usage = random.uniform(10.0, 15.0)\n",
        "    memory_usage = random.uniform(20.0, 25.0)\n",
        "    disk_io = random.uniform(5.0, 10.0)\n",
        "    round_trip_time = random.uniform(10.0, 15.0)\n",
        "    # active = random.choice([True, False])\n",
        "\n",
        "    dummy_data.append({\n",
        "        'node_id_sender': node_id_sender,\n",
        "        'node_id_receiver': node_id_receiver,\n",
        "        'timestamp': timestamp,\n",
        "        'bandwidth_in': bandwidth_in,\n",
        "        'bandwidth_out': bandwidth_out,\n",
        "        'latency': latency,\n",
        "        'packet_loss': packet_loss,\n",
        "        # 'errors': errors,\n",
        "        'cpu_usage': cpu_usage,\n",
        "        'memory_usage': memory_usage,\n",
        "        'disk_io': disk_io,\n",
        "        'round_trip_time': round_trip_time,\n",
        "        # 'active': active\n",
        "    })\n",
        "\n",
        "# Convert data to pandas DataFrame\n",
        "df = pd.DataFrame(dummy_data)\n",
        "\n",
        "# Save DataFrame to a .csv file\n",
        "df.to_csv('chat_application_data_100_users.csv', index=False)\n",
        "\n"
      ]
    }
  ]
}